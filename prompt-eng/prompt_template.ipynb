{
 "cells": [
  {
   "cell_type": "markdown",
   "metadata": {},
   "source": [
    "\n",
    "\n"
   ]
  },
  {
   "cell_type": "markdown",
   "metadata": {},
   "source": [
    "# Prompt Template Prompting\n",
    "\n",
    "Prompt Template Prompting refers to a technique where predefined templates are used to construct effective prompts that guide large language models (LLMs) to generate responses tailored to specific use cases. The templates typically contain static text combined with dynamic input variables, allowing for consistent, reusable, and customizable prompts.\n",
    "\n",
    "Prompt templates are widely used across various domains, such as:\n",
    "* **Question Generation**: Templates can generate quiz questions by filling in variables related to topics.\n",
    "* **Text Summarization**: Static instructions combined with variable documents or inputs allow flexible summarization.\n",
    "* **Coding Assistance**: Dynamic prompts help LLMs generate code snippets for different programming tasks.\n",
    "\n",
    "## References:\n",
    "\n",
    "* (OpenAI Documentation for Prompt Engineering)[https://platform.openai.com/docs/guides/prompt-engineering]"
   ]
  },
  {
   "cell_type": "markdown",
   "metadata": {},
   "source": [
    "## Running this code on MyBind.org\n",
    "\n",
    "Note: remember that you will need to **adjust CONFIG** with **proper URL and API_KEY**!\n",
    "\n",
    "[![Binder](https://mybinder.org/badge_logo.svg)](https://mybinder.org/v2/gh/GenILab-FAU/prompt-eng/HEAD?urlpath=%2Fdoc%2Ftree%2Fprompt-eng%2Fprompt_template.ipynb)\n"
   ]
  },
  {
   "cell_type": "code",
   "execution_count": null,
   "metadata": {},
   "outputs": [
    {
     "name": "stdout",
     "output_type": "stream",
     "text": [
      "{'model': 'llama3.2:latest', 'prompt': 'You are a requirement analyst. Your task is to analyze a project and identify the necessary user interactions and functionalities needed for its implementation. \\nProject Description: A study companion Discord bot that allows users to upload documents, analyze their content, and answer user questions based on the documents.\\nPlease provide your requirement analysis as a clear, organized list or bullet points. Focus solely on identifying user interactions and the functionalities required to support them. Do not include technical specifications or implementation details.', 'stream': False, 'options': {'temperature': 0.2, 'num_ctx': 1024, 'num_predict': 500}}\n",
      "Here is the requirement analysis for the study companion Discord bot:\n",
      "\n",
      "**User Interactions:**\n",
      "\n",
      "* **Document Upload**\n",
      " + User initiates upload of a document (e.g., PDF, Word, Excel)\n",
      " + Bot prompts user to select file type and format\n",
      " + User selects file and uploads it to the bot's server\n",
      "* **Document Analysis**\n",
      " + User requests analysis of uploaded document\n",
      " + Bot provides summary of document content (e.g., number of pages, words, sentences)\n",
      " + User can request specific analysis types (e.g., readability score, sentiment analysis)\n",
      "* **Question Answering**\n",
      " + User asks a question about the document's content\n",
      " + Bot searches and retrieves relevant information from the uploaded document\n",
      " + Bot provides answer to user's question\n",
      "* **Document Retrieval**\n",
      " + User requests retrieval of previously uploaded documents\n",
      " + Bot displays list of available documents for review\n",
      " + User can select specific document to view or re-analyze\n",
      "\n",
      "**Functionalities:**\n",
      "\n",
      "* **User Authentication**: Secure login system for users to access their uploaded documents and analysis results\n",
      "* **File Storage**: Ability to store and manage user-uploaded documents securely\n",
      "* **Analysis Engine**: Integration of a natural language processing (NLP) engine to analyze document content\n",
      "* **Question Answering Algorithm**: Implementation of an algorithm to retrieve relevant information from the uploaded document based on user's question\n",
      "* **User Interface**: User-friendly interface for users to interact with the bot, including upload and download functionality\n",
      "* **Error Handling**: Mechanism to handle errors and exceptions during file uploads, analysis, and question answering\n",
      "\n",
      "**Edge Cases:**\n",
      "\n",
      "* **Invalid File Type**: Bot handles invalid file types or formats uploaded by user\n",
      "* **File Size Limitations**: Bot enforces file size limitations to prevent abuse or performance issues\n",
      "* **Analysis Results**: Bot provides clear and concise results of document analysis, including any limitations or assumptions made during the process\n",
      "\n",
      "This requirement analysis focuses on identifying the necessary user interactions and functionalities required to support the study companion Discord bot.\n",
      "Time taken: 7.079s\n"
     ]
    }
   ],
   "source": [
    "##\n",
    "## PROMPT TEMPLATE PROMPTING\n",
    "##\n",
    "\n",
    "from _pipeline import create_payload, model_req\n",
    "\n",
    "#### (1) Adjust the inbounding  Prompt, simulating inbounding requests from users or other systems\n",
    "MESSAGE = \"Project Description: A study companion Discord bot that allows users to upload documents, analyze their content, and answer user questions based on the documents.\"\n",
    "\n",
    "#### (2) Adjust the Prompt Engineering Technique to be applied, simulating Workflow Templates\n",
    "TEMPLATE_BEFORE=\"You are a requirement analyst. Your task is to analyze a project and identify the necessary user interactions and functionalities needed for its implementation. \"\n",
    "TEMPLATE_AFTER=\"Please provide your requirement analysis as a clear, organized list or bullet points. Focus solely on identifying user interactions and the functionalities required to support them. Do not include technical specifications or implementation details.\"\n",
    "PROMPT = TEMPLATE_BEFORE + '\\n' + MESSAGE + '\\n' + TEMPLATE_AFTER\n",
    "\n",
    "#### (3) Configure the Model request, simulating Workflow Orchestration\n",
    "# Documentation: https://github.com/ollama/ollama/blob/main/docs/api.md\n",
    "payload = create_payload(target=\"ollama\",\n",
    "                         model=\"llama3.2:latest\", \n",
    "                         prompt=PROMPT, \n",
    "                         temperature=0.2, # Responsible for how \"random\" can the answer be. Keeping at 0.2 to keep answers consistant with little variation\n",
    "                         num_ctx=1024, # Essentially responsible for models memory / context window. 1024 ensures the model fully understands both the prompt and is capable of generating the requirement analysis.\n",
    "                         num_predict=500) # Responsible for how many word tokens are permitted to be returned. 500 keeps the requirement analysis consize and to the point.\n",
    "\n",
    "### YOU DONT NEED TO CONFIGURE ANYTHING ELSE FROM THIS POINT\n",
    "# Send out to the model\n",
    "time, response = model_req(payload=payload)\n",
    "print(response)\n",
    "if time: print(f'Time taken: {time}s')"
   ]
  }
 ],
 "metadata": {
  "kernelspec": {
   "display_name": "base",
   "language": "python",
   "name": "python3"
  },
  "language_info": {
   "codemirror_mode": {
    "name": "ipython",
    "version": 3
   },
   "file_extension": ".py",
   "mimetype": "text/x-python",
   "name": "python",
   "nbconvert_exporter": "python",
   "pygments_lexer": "ipython3",
   "version": "3.11.4"
  }
 },
 "nbformat": 4,
 "nbformat_minor": 2
}
