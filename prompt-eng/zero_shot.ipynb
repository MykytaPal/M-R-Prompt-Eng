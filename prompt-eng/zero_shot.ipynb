{
 "cells": [
  {
   "cell_type": "markdown",
   "metadata": {},
   "source": [
    "\n",
    "\n"
   ]
  },
  {
   "cell_type": "markdown",
   "metadata": {},
   "source": [
    "# Zero-Shot Prompting\n",
    "\n",
    "Zero-shot prompting refers to a technique in prompt engineering where you provide a model with a task without any prior examples. The model is expected to understand and generate a response or complete the task purely based on the given instruction.\n",
    "\n",
    "In other words, the model is given \"zero\" prior training examples or demonstrations in the prompt and relies on its pre-trained knowledge to infer what is needed.\n",
    "\n",
    "## References:\n",
    "* [Wei et al. (2022)](https://arxiv.org/pdf/2109.01652.pdf): demonstrate how instruction tuning improves zero-shot learning "
   ]
  },
  {
   "cell_type": "markdown",
   "metadata": {},
   "source": [
    "## Running this code on MyBind.org\n",
    "\n",
    "Note: remember that you will need to **adjust CONFIG** with **proper URL and API_KEY**!\n",
    "\n",
    "[![Binder](https://mybinder.org/badge_logo.svg)](https://mybinder.org/v2/gh/GenILab-FAU/prompt-eng/HEAD?urlpath=%2Fdoc%2Ftree%2Fprompt-eng%2Fzero_shot.ipynb)\n",
    "\n"
   ]
  },
  {
   "cell_type": "code",
   "execution_count": null,
   "metadata": {},
   "outputs": [
    {
     "name": "stdout",
     "output_type": "stream",
     "text": [
      "{'model': 'llama3.2:latest', 'prompt': \"\\nYou are a requirement analyst tasked with creating a requirement analysis for a study companion Discord bot. The bot's purpose is to allow users to upload documents, analyze their contents, and answer user questions based on those documents. Your analysis should focus solely on identifying the necessary user interactions and the functionalities required to support these interactions. Do not include implementation details or technical specifications.\\n\\nPlease provide a clear and organized list that includes:\\n\\n1. **User Interactions:**\\n   - How users will initiate interactions with the bot (e.g., document uploads, asking questions).\\n   - The types of requests users might make (e.g., querying specific information from the document, requesting summaries, etc.).\\n   - Interaction flows such as error notifications or confirmations.\\n\\n2. **Functionalities:**\\n   - Features for document handling (e.g., file upload support, document parsing, text extraction).\\n   - Mechanisms for document analysis (e.g., natural language processing, content indexing).\\n   - Capabilities for processing and responding to user questions (e.g., search, context retrieval, answer generation).\\n   - User feedback and error handling functionalities (e.g., response validation, message formatting).\\n   - Integration points with Discord (e.g., command processing, messaging interfaces).\\n\\nProduce the requirement analysis as a structured list or bullet points outlining these user interactions and functionalities.\\n\", 'stream': False, 'options': {'temperature': 0.2, 'num_ctx': 1024, 'num_predict': 500}}\n",
      "**Requirement Analysis: Study Companion Discord Bot**\n",
      "\n",
      "**User Interactions:**\n",
      "\n",
      "1. **Document Uploads**\n",
      "\t* Users will initiate interactions by uploading documents to the bot via Discord's file upload feature.\n",
      "\t* The bot will display a confirmation message or notification to acknowledge receipt of the uploaded document.\n",
      "2. **Questioning and Information Retrieval**\n",
      "\t* Users will ask questions about the contents of their uploaded documents, such as:\n",
      "\t\t+ Querying specific information from the document (e.g., \"What is the main topic of this article?\")\n",
      "\t\t+ Requesting summaries or abstracts\n",
      "\t\t+ Asking for definitions or explanations of technical terms\n",
      "3. **Error Notifications and Confirmations**\n",
      "\t* The bot will display error messages if:\n",
      "\t\t+ A file upload fails due to invalid format or size limitations\n",
      "\t\t+ The bot is unable to parse or analyze the uploaded document\n",
      "\t\t+ User input is incomplete or unclear\n",
      "\t* The bot will confirm user actions, such as:\n",
      "\t\t+ Acknowledging receipt of a new document upload\n",
      "\t\t+ Confirming the accuracy of user-inputted questions\n",
      "\n",
      "**Functionalities:**\n",
      "\n",
      "1. **Document Handling**\n",
      "\t* Support for various file formats (e.g., PDF, Word, Excel)\n",
      "\t* Automatic document parsing and text extraction\n",
      "\t* Ability to handle large files and high-volume uploads\n",
      "2. **Natural Language Processing (NLP) and Content Indexing**\n",
      "\t* Integration with NLP libraries or services for text analysis and understanding\n",
      "\t* Development of a content indexing system to facilitate efficient retrieval of information from uploaded documents\n",
      "3. **Question Processing and Response Generation**\n",
      "\t* Ability to understand and interpret user questions using NLP techniques\n",
      "\t* Generation of accurate and relevant responses based on the contents of the uploaded document\n",
      "4. **User Feedback and Error Handling**\n",
      "\t* Validation of user input to ensure accuracy and completeness\n",
      "\t* Formatting of responses to ensure clarity and readability\n",
      "\t* Display of error messages or notifications if:\n",
      "\t\t+ User input is incomplete or unclear\n",
      "\t\t+ The bot is unable to process a question or provide an accurate response\n",
      "5. **Integration with Discord**\n",
      "\t* Command processing for user interactions (e.g., !upload, ?question)\n",
      "\t* Messaging interfaces for displaying responses and error messages\n",
      "\t* Ability to integrate with Discord's API for features like file uploads and user notifications\n",
      "Time taken: 7.878s\n"
     ]
    }
   ],
   "source": [
    "##\n",
    "## ZERO SHOT PROMPTING\n",
    "##\n",
    "\n",
    "from _pipeline import create_payload, model_req\n",
    "\n",
    "#### (1) Adjust the inbounding  Prompt, simulating inbounding requests from users or other systems\n",
    "MESSAGE = \"\"\"\n",
    "You are a requirement analyst tasked with creating a requirement analysis for a study companion Discord bot. The bot's purpose is to allow users to upload documents, analyze their contents, and answer user questions based on those documents. Your analysis should focus solely on identifying the necessary user interactions and the functionalities required to support these interactions. Do not include implementation details or technical specifications.\n",
    "\n",
    "Please provide a clear and organized list that includes:\n",
    "\n",
    "1. **User Interactions:**\n",
    "   - How users will initiate interactions with the bot (e.g., document uploads, asking questions).\n",
    "   - The types of requests users might make (e.g., querying specific information from the document, requesting summaries, etc.).\n",
    "   - Interaction flows such as error notifications or confirmations.\n",
    "\n",
    "2. **Functionalities:**\n",
    "   - Features for document handling (e.g., file upload support, document parsing, text extraction).\n",
    "   - Mechanisms for document analysis (e.g., natural language processing, content indexing).\n",
    "   - Capabilities for processing and responding to user questions (e.g., search, context retrieval, answer generation).\n",
    "   - User feedback and error handling functionalities (e.g., response validation, message formatting).\n",
    "   - Integration points with Discord (e.g., command processing, messaging interfaces).\n",
    "\n",
    "Produce the requirement analysis as a structured list or bullet points outlining these user interactions and functionalities.\n",
    "\"\"\"\n",
    "\n",
    "#### The prompt above was created by generating a prompt through ChatGPT and manually adjusting certain parts for the best result.\n",
    "\n",
    "#### (2) Adjust the Prompt Engineering Technique to be applied, simulating Workflow Templates\n",
    "PROMPT = MESSAGE \n",
    "\n",
    "#### (3) Configure the Model request, simulating Workflow Orchestration\n",
    "# Documentation: https://github.com/ollama/ollama/blob/main/docs/api.md\n",
    "payload = create_payload(target=\"ollama\",\n",
    "                         model=\"llama3.2:latest\", \n",
    "                         prompt=PROMPT, \n",
    "                         temperature=0.2, # Ensures that the result remains consistent with little variation.\n",
    "                         num_ctx=1024, # Ensures that the context window is big enough to process the request and generate requirement analysis.\n",
    "                         num_predict=500) # Ensures to keep the output consize and to the point. Any larger would output unneccessary infromation.\n",
    "\n",
    "### YOU DONT NEED TO CONFIGURE ANYTHING ELSE FROM THIS POINT\n",
    "# Send out to the model\n",
    "time, response = model_req(payload=payload)\n",
    "print(response)\n",
    "if time: print(f'Time taken: {time}s')"
   ]
  },
  {
   "cell_type": "markdown",
   "metadata": {},
   "source": [
    "---\n",
    "\n",
    "## How to improve it?\n",
    "\n",
    "* **Use Clear and Concise Instructions**: Be specific about the task and desired format.\n",
    "    * Bad Prompt: “Summarize this.”\n",
    "    * Good Prompt: “Summarize this paragraph in one sentence.”\n",
    "* **Add Context**: Providing background can help the model interpret ambiguous prompts better.\n",
    "* **Specify Output Format**: If a particular structure is needed, describe it in the instruction."
   ]
  }
 ],
 "metadata": {
  "kernelspec": {
   "display_name": "base",
   "language": "python",
   "name": "python3"
  },
  "language_info": {
   "codemirror_mode": {
    "name": "ipython",
    "version": 3
   },
   "file_extension": ".py",
   "mimetype": "text/x-python",
   "name": "python",
   "nbconvert_exporter": "python",
   "pygments_lexer": "ipython3",
   "version": "3.11.4"
  }
 },
 "nbformat": 4,
 "nbformat_minor": 2
}
